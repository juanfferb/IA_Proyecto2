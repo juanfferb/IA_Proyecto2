{
  "cells": [
    {
      "cell_type": "markdown",
      "metadata": {
        "id": "QSNueARf1-b7"
      },
      "source": [
        "## Modo de uso\n"
      ]
    },
    {
      "cell_type": "markdown",
      "metadata": {
        "id": "i8rP1psm2GwS"
      },
      "source": [
        "1. Las clausulas que se quieren agregar a la base de conocimiento, tienen la siguiente forma: kb.agregar_clausula({Literal(\"Pompeyano\", (\"Marco\",))}). Este ejemplo es para Pompeyano(Marco)\n",
        "2. Las variables se colocan en orden alfabetico. Es decir, la primera variable que quieras colocar en la base de conocimiento, debes representarla por la letra a, luego la segunda variable con la letra b, y asi sucesivamente. Ejemplo: agregar_clausula({Literal(\"-Hombre\", (\"a\",)), Literal(\"-Gobernante\", (\"b\",)), Literal(\"-IntentaAsesinar\", (\"a\", \"b\")), Literal(\"-Leal\", (\"a\", \"b\"))})\n",
        "3. Se debe colocar la conjetura en: conjetura = [{Literal(\"Odia\", (\"Marco\", \"Cesar\"))}]. Este ejemplo es para Odia(Marco, Cesar)"
      ]
    },
    {
      "cell_type": "markdown",
      "metadata": {
        "id": "NRv7cgrm3kiM"
      },
      "source": [
        "## Implementacion del Motor de Inferencia"
      ]
    },
    {
      "cell_type": "code",
      "execution_count": null,
      "metadata": {
        "colab": {
          "base_uri": "https://localhost:8080/"
        },
        "id": "X3ghFteh1ju0",
        "outputId": "089b6b66-f18a-439e-d06e-70eb13c3b634"
      },
      "outputs": [
        {
          "ename": "",
          "evalue": "",
          "output_type": "error",
          "traceback": [
            "\u001b[1;31mRunning cells with 'Python 3.13.2' requires the ipykernel package.\n",
            "\u001b[1;31mRun the following command to install 'ipykernel' into the Python environment. \n",
            "\u001b[1;31mCommand: '/opt/homebrew/bin/python3 -m pip install ipykernel -U --user --force-reinstall'"
          ]
        }
      ],
      "source": [
        "class Literal:\n",
        "    def __init__(self, predicado, argumentos):\n",
        "        self.predicado = predicado\n",
        "        self.argumentos = tuple(argumentos)\n",
        "\n",
        "    def __neg__(self):\n",
        "        if self.predicado.startswith(\"-\"):\n",
        "            return Literal(self.predicado[1:], self.argumentos)\n",
        "        return Literal(\"-\" + self.predicado, self.argumentos)\n",
        "\n",
        "    def __eq__(self, other):\n",
        "        return self.predicado == other.predicado and self.argumentos == other.argumentos\n",
        "\n",
        "    def __hash__(self):\n",
        "        return hash((self.predicado, self.argumentos))\n",
        "\n",
        "    def __repr__(self):\n",
        "        return f\"{self.predicado}({', '.join(self.argumentos)})\"\n",
        "\n",
        "\n",
        "class Clausula:\n",
        "    def __init__(self, literales):\n",
        "        self.literales = frozenset(literales)\n",
        "\n",
        "    def __or__(self, other):\n",
        "        return Clausula(self.literales | other.literales)\n",
        "\n",
        "    def __sub__(self, other):\n",
        "        return Clausula(self.literales - other.literales)\n",
        "\n",
        "    def __repr__(self):\n",
        "        return \" OR \".join(map(str, self.literales))\n",
        "\n",
        "\n",
        "class Resolucion:\n",
        "    def __init__(self):\n",
        "        self.clausulas = []\n",
        "        self.vacio = Clausula(set())\n",
        "\n",
        "    def agregar_clausula(self, clausula):\n",
        "        self.clausulas.append(Clausula(clausula))\n",
        "\n",
        "    def mostrar_clausulas(self):\n",
        "        for clausula in self.clausulas:\n",
        "            print(clausula)\n",
        "\n",
        "    def negar_conjetura(self, conjetura):\n",
        "        negada = [Clausula({-literal for literal in clausula}) for clausula in conjetura]\n",
        "        self.clausulas = negada + self.clausulas\n",
        "\n",
        "    def unificar_variables(self, conjetura):\n",
        "        variables = {}\n",
        "        letras = \"abcdefghijklmnopqrstuvwxyz\"\n",
        "        for i, arg in enumerate(conjetura):\n",
        "            variables[letras[i]] = arg\n",
        "        return variables\n",
        "\n",
        "    def sustituir_variables(self, variables):\n",
        "        self.clausulas = [\n",
        "            Clausula(\n",
        "                {Literal(lit.predicado, tuple(variables.get(arg, arg) for arg in lit.argumentos)) for lit in clausula.literales}\n",
        "            )\n",
        "            for clausula in self.clausulas\n",
        "        ]\n",
        "\n",
        "    def encontrar_clausula_opuesta(self):\n",
        "        primera_clausula = self.clausulas[0]\n",
        "        for clausula in self.clausulas[1:]:\n",
        "            for literal in clausula.literales:\n",
        "                if -literal in primera_clausula.literales:\n",
        "                    return clausula, literal\n",
        "        return None, None\n",
        "\n",
        "    def resolver_clausulas(self):\n",
        "        while True:\n",
        "            primera_clausula = self.clausulas[0]\n",
        "            segunda_clausula, literal_opuesto = self.encontrar_clausula_opuesta()\n",
        "\n",
        "            if not segunda_clausula:\n",
        "                print(\"No se encontró una cláusula opuesta. Fin del proceso. Conjetura Falsa\")\n",
        "                return False\n",
        "\n",
        "            resolvente = (primera_clausula | segunda_clausula) - Clausula({literal_opuesto, -literal_opuesto})\n",
        "\n",
        "            if resolvente.literales == self.vacio.literales:\n",
        "                print(\"Se ha derivado la cláusula vacía. Contradicción encontrada. La conjetura es verdadera\")\n",
        "                return True\n",
        "\n",
        "            self.clausulas.insert(0, resolvente)\n",
        "            self.clausulas.remove(primera_clausula)\n",
        "            self.clausulas.remove(segunda_clausula)\n",
        "            print(\"Nueva cláusula generada:\", resolvente)\n",
        "\n",
        "\n",
        "class Main:\n",
        "    @staticmethod\n",
        "    def ejecutar():\n",
        "        kb = Resolucion()\n",
        "        kb.agregar_clausula({Literal(\"Hombre\", (\"a\",))})\n",
        "        kb.agregar_clausula({Literal(\"Pompeyano\", (\"Marco\",))})\n",
        "        kb.agregar_clausula({Literal(\"-Pompeyano\", (\"a\",)), Literal(\"Romano\", (\"a\",))})\n",
        "        kb.agregar_clausula({Literal(\"Gobernante\", (\"Cesar\",))})\n",
        "        kb.agregar_clausula({Literal(\"-Romano\", (\"a\",)), Literal(\"Leal\", (\"a\", \"Cesar\")), Literal(\"Odia\", (\"a\", \"Cesar\"))})\n",
        "        kb.agregar_clausula({Literal(\"-Hombre\", (\"a\",)), Literal(\"-Gobernante\", (\"b\",)), Literal(\"-IntentaAsesinar\", (\"a\", \"b\")), Literal(\"-Leal\", (\"a\", \"b\"))})\n",
        "        kb.agregar_clausula({Literal(\"IntentaAsesinar\", (\"Marco\", \"Cesar\"))})\n",
        "\n",
        "        print(\"Base de conocimiento inicial:\")\n",
        "        kb.mostrar_clausulas()\n",
        "        print(\"--------------------------\")\n",
        "\n",
        "        conjetura = [{Literal(\"Odia\", (\"Marco\", \"Cesar\"))}]\n",
        "        kb.negar_conjetura(conjetura)\n",
        "\n",
        "        variables = kb.unificar_variables([\"Marco\", \"Cesar\"])\n",
        "        kb.sustituir_variables(variables)\n",
        "        print(\"Después de sustituir variables:\")\n",
        "        kb.mostrar_clausulas()\n",
        "        print(\"--------------------------\")\n",
        "\n",
        "        kb.resolver_clausulas()\n",
        "\n",
        "\n",
        "if __name__ == \"__main__\":\n",
        "    Main.ejecutar()"
      ]
    },
    {
      "cell_type": "code",
      "execution_count": null,
      "metadata": {},
      "outputs": [],
      "source": []
    }
  ],
  "metadata": {
    "colab": {
      "provenance": []
    },
    "kernelspec": {
      "display_name": "Python 3",
      "name": "python3"
    },
    "language_info": {
      "name": "python",
      "version": "3.13.2"
    }
  },
  "nbformat": 4,
  "nbformat_minor": 0
}
